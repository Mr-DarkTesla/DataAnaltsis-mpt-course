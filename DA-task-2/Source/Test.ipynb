{
 "cells": [
  {
   "cell_type": "code",
   "execution_count": null,
   "metadata": {
    "collapsed": true
   },
   "outputs": [],
   "source": []
  },
  {
   "cell_type": "code",
   "execution_count": null,
   "outputs": [],
   "source": [
    "    def task6(self) -> Figure:\n",
    "        df = self.task2()\n",
    "        quantiles = df.quantile()\n",
    "        df = df[(df['views'] < quantiles['views']) & (df['likes'] < quantiles['likes'])]\n",
    "        with sns.axes_style('whitegrid'):\n",
    "            g = sns.jointplot(data=df, x='views', y='likes', alpha=.3)\n",
    "            g.fig.set_figwidth(10)\n",
    "            g.fig.set_figheight(10)\n",
    "        # plt.figure(figsize=(9, 4))\n",
    "        plt.suptitle(\"Количевто лайков в зависимости от количество просомтров\")\n",
    "        plt.xlabel(r\"Количество просмотров, $10^5$\")\n",
    "        plt.ylabel(\"Количество лайков\")\n",
    "        return plt.gcf()"
   ],
   "metadata": {
    "collapsed": false
   }
  }
 ],
 "metadata": {
  "kernelspec": {
   "display_name": "Python 3",
   "language": "python",
   "name": "python3"
  },
  "language_info": {
   "codemirror_mode": {
    "name": "ipython",
    "version": 2
   },
   "file_extension": ".py",
   "mimetype": "text/x-python",
   "name": "python",
   "nbconvert_exporter": "python",
   "pygments_lexer": "ipython2",
   "version": "2.7.6"
  }
 },
 "nbformat": 4,
 "nbformat_minor": 0
}
